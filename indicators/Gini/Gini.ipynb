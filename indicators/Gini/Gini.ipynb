{
  "nbformat": 4,
  "nbformat_minor": 0,
  "metadata": {
    "colab": {
      "name": "Gini.ipynb",
      "provenance": [],
      "collapsed_sections": []
    },
    "kernelspec": {
      "name": "python3",
      "display_name": "Python 3"
    }
  },
  "cells": [
    {
      "cell_type": "markdown",
      "metadata": {
        "id": "Px8Euxjpt7FV",
        "colab_type": "text"
      },
      "source": [
        "# Install module with the Gini index\n"
      ]
    },
    {
      "cell_type": "code",
      "metadata": {
        "id": "gLouz2Zts21i",
        "colab_type": "code",
        "colab": {
          "base_uri": "https://localhost:8080/",
          "height": 439
        },
        "outputId": "c01587c9-1ab9-4df0-ce48-44d8c310631c"
      },
      "source": [
        "!git clone https://github.com/mmngreco/IneqPy.git\n",
        "%cd IneqPy\n",
        "!pip install ."
      ],
      "execution_count": 1,
      "outputs": [
        {
          "output_type": "stream",
          "text": [
            "Cloning into 'IneqPy'...\n",
            "remote: Enumerating objects: 19, done.\u001b[K\n",
            "remote: Counting objects: 100% (19/19), done.\u001b[K\n",
            "remote: Compressing objects: 100% (16/16), done.\u001b[K\n",
            "remote: Total 967 (delta 4), reused 13 (delta 2), pack-reused 948\u001b[K\n",
            "Receiving objects: 100% (967/967), 3.66 MiB | 5.56 MiB/s, done.\n",
            "Resolving deltas: 100% (497/497), done.\n",
            "/content/IneqPy\n",
            "Processing /content/IneqPy\n",
            "Requirement already satisfied: numpy in /usr/local/lib/python3.6/dist-packages (from IneqPy==0.2.0+26.gc860a30) (1.17.4)\n",
            "Requirement already satisfied: pandas in /usr/local/lib/python3.6/dist-packages (from IneqPy==0.2.0+26.gc860a30) (0.25.3)\n",
            "Requirement already satisfied: numba in /usr/local/lib/python3.6/dist-packages (from IneqPy==0.2.0+26.gc860a30) (0.40.1)\n",
            "Requirement already satisfied: python-dateutil>=2.6.1 in /usr/local/lib/python3.6/dist-packages (from pandas->IneqPy==0.2.0+26.gc860a30) (2.6.1)\n",
            "Requirement already satisfied: pytz>=2017.2 in /usr/local/lib/python3.6/dist-packages (from pandas->IneqPy==0.2.0+26.gc860a30) (2018.9)\n",
            "Requirement already satisfied: llvmlite>=0.25.0dev0 in /usr/local/lib/python3.6/dist-packages (from numba->IneqPy==0.2.0+26.gc860a30) (0.30.0)\n",
            "Requirement already satisfied: six>=1.5 in /usr/local/lib/python3.6/dist-packages (from python-dateutil>=2.6.1->pandas->IneqPy==0.2.0+26.gc860a30) (1.12.0)\n",
            "Building wheels for collected packages: IneqPy\n",
            "  Building wheel for IneqPy (setup.py) ... \u001b[?25l\u001b[?25hdone\n",
            "  Created wheel for IneqPy: filename=IneqPy-0.2.0+26.gc860a30-cp36-none-any.whl size=24183 sha256=5d15e7a767193c1e39efe9c83ba317ec0a626ede0eaadf3e46bf1cb844977f58\n",
            "  Stored in directory: /tmp/pip-ephem-wheel-cache-g2x5hdoz/wheels/c5/e1/00/84bef270544d6978b6b8465069e306b6905c6211cdad48ed36\n",
            "Successfully built IneqPy\n",
            "Installing collected packages: IneqPy\n",
            "Successfully installed IneqPy-0.2.0+26.gc860a30\n"
          ],
          "name": "stdout"
        }
      ]
    },
    {
      "cell_type": "code",
      "metadata": {
        "id": "GdOLGRaAsmkF",
        "colab_type": "code",
        "colab": {
          "base_uri": "https://localhost:8080/",
          "height": 387
        },
        "outputId": "5e86baaa-6f20-472a-bbe7-cdc3ca897ff9"
      },
      "source": [
        "# download sample file\n",
        "!wget 'https://github.com/ldnl-unam/LDNL/blob/master/indicators/Gini/GINILISLATAM.xlsx?raw=true'"
      ],
      "execution_count": 8,
      "outputs": [
        {
          "output_type": "stream",
          "text": [
            "--2019-12-09 18:30:22--  https://github.com/ldnl-unam/LDNL/blob/master/indicators/Gini/GINILISLATAM.xlsx?raw=true\n",
            "Resolving github.com (github.com)... 140.82.118.3\n",
            "Connecting to github.com (github.com)|140.82.118.3|:443... connected.\n",
            "HTTP request sent, awaiting response... 302 Found\n",
            "Location: https://github.com/ldnl-unam/LDNL/raw/master/indicators/Gini/GINILISLATAM.xlsx [following]\n",
            "--2019-12-09 18:30:23--  https://github.com/ldnl-unam/LDNL/raw/master/indicators/Gini/GINILISLATAM.xlsx\n",
            "Reusing existing connection to github.com:443.\n",
            "HTTP request sent, awaiting response... 302 Found\n",
            "Location: https://raw.githubusercontent.com/ldnl-unam/LDNL/master/indicators/Gini/GINILISLATAM.xlsx [following]\n",
            "--2019-12-09 18:30:23--  https://raw.githubusercontent.com/ldnl-unam/LDNL/master/indicators/Gini/GINILISLATAM.xlsx\n",
            "Resolving raw.githubusercontent.com (raw.githubusercontent.com)... 151.101.0.133, 151.101.64.133, 151.101.128.133, ...\n",
            "Connecting to raw.githubusercontent.com (raw.githubusercontent.com)|151.101.0.133|:443... connected.\n",
            "HTTP request sent, awaiting response... 200 OK\n",
            "Length: 10792 (11K) [application/octet-stream]\n",
            "Saving to: ‘GINILISLATAM.xlsx?raw=true.1’\n",
            "\n",
            "\r          GINILISLA   0%[                    ]       0  --.-KB/s               \rGINILISLATAM.xlsx?r 100%[===================>]  10.54K  --.-KB/s    in 0s      \n",
            "\n",
            "2019-12-09 18:30:23 (125 MB/s) - ‘GINILISLATAM.xlsx?raw=true.1’ saved [10792/10792]\n",
            "\n"
          ],
          "name": "stdout"
        }
      ]
    },
    {
      "cell_type": "code",
      "metadata": {
        "id": "-XmEh16w7gW-",
        "colab_type": "code",
        "colab": {}
      },
      "source": [
        "# change name\n",
        "!mv 'GINILISLATAM.xlsx?raw=true.1' 'GINILISLATAM.xlsx'"
      ],
      "execution_count": 0,
      "outputs": []
    },
    {
      "cell_type": "code",
      "metadata": {
        "id": "_nmcu84VtOEM",
        "colab_type": "code",
        "outputId": "f3348d72-a035-4236-ff91-84a129764ae8",
        "colab": {
          "base_uri": "https://localhost:8080/",
          "height": 235
        }
      },
      "source": [
        "import pandas as pd\n",
        "\n",
        "#Read file\n",
        "DataProduccion = pd.read_excel('GINILISLATAM.xlsx', index_col=0)\n",
        "DataProduccion.head()"
      ],
      "execution_count": 11,
      "outputs": [
        {
          "output_type": "execute_result",
          "data": {
            "text/html": [
              "<div>\n",
              "<style scoped>\n",
              "    .dataframe tbody tr th:only-of-type {\n",
              "        vertical-align: middle;\n",
              "    }\n",
              "\n",
              "    .dataframe tbody tr th {\n",
              "        vertical-align: top;\n",
              "    }\n",
              "\n",
              "    .dataframe thead th {\n",
              "        text-align: right;\n",
              "    }\n",
              "</style>\n",
              "<table border=\"1\" class=\"dataframe\">\n",
              "  <thead>\n",
              "    <tr style=\"text-align: right;\">\n",
              "      <th></th>\n",
              "      <th>BRAZIL</th>\n",
              "      <th>MEXICO</th>\n",
              "      <th>CHILE</th>\n",
              "      <th>ARGENTINA</th>\n",
              "      <th>COLOMBIA</th>\n",
              "      <th>CUBA</th>\n",
              "      <th>PERU</th>\n",
              "      <th>JAMAICA</th>\n",
              "      <th>URUGUAY</th>\n",
              "      <th>VENEZUELA</th>\n",
              "      <th>ECUADOR</th>\n",
              "    </tr>\n",
              "    <tr>\n",
              "      <th>Year</th>\n",
              "      <th></th>\n",
              "      <th></th>\n",
              "      <th></th>\n",
              "      <th></th>\n",
              "      <th></th>\n",
              "      <th></th>\n",
              "      <th></th>\n",
              "      <th></th>\n",
              "      <th></th>\n",
              "      <th></th>\n",
              "      <th></th>\n",
              "    </tr>\n",
              "  </thead>\n",
              "  <tbody>\n",
              "    <tr>\n",
              "      <th>1980'</th>\n",
              "      <td>4</td>\n",
              "      <td>2</td>\n",
              "      <td>1</td>\n",
              "      <td>0</td>\n",
              "      <td>0</td>\n",
              "      <td>1</td>\n",
              "      <td>1</td>\n",
              "      <td>0</td>\n",
              "      <td>0</td>\n",
              "      <td>0</td>\n",
              "      <td>0</td>\n",
              "    </tr>\n",
              "    <tr>\n",
              "      <th>1981'</th>\n",
              "      <td>6</td>\n",
              "      <td>1</td>\n",
              "      <td>2</td>\n",
              "      <td>2</td>\n",
              "      <td>1</td>\n",
              "      <td>0</td>\n",
              "      <td>1</td>\n",
              "      <td>2</td>\n",
              "      <td>0</td>\n",
              "      <td>0</td>\n",
              "      <td>0</td>\n",
              "    </tr>\n",
              "    <tr>\n",
              "      <th>1982'</th>\n",
              "      <td>3</td>\n",
              "      <td>4</td>\n",
              "      <td>0</td>\n",
              "      <td>0</td>\n",
              "      <td>0</td>\n",
              "      <td>0</td>\n",
              "      <td>1</td>\n",
              "      <td>1</td>\n",
              "      <td>0</td>\n",
              "      <td>0</td>\n",
              "      <td>0</td>\n",
              "    </tr>\n",
              "    <tr>\n",
              "      <th>1983'</th>\n",
              "      <td>5</td>\n",
              "      <td>1</td>\n",
              "      <td>3</td>\n",
              "      <td>1</td>\n",
              "      <td>0</td>\n",
              "      <td>0</td>\n",
              "      <td>0</td>\n",
              "      <td>0</td>\n",
              "      <td>0</td>\n",
              "      <td>1</td>\n",
              "      <td>0</td>\n",
              "    </tr>\n",
              "    <tr>\n",
              "      <th>1984'</th>\n",
              "      <td>2</td>\n",
              "      <td>2</td>\n",
              "      <td>1</td>\n",
              "      <td>0</td>\n",
              "      <td>0</td>\n",
              "      <td>0</td>\n",
              "      <td>0</td>\n",
              "      <td>0</td>\n",
              "      <td>0</td>\n",
              "      <td>0</td>\n",
              "      <td>0</td>\n",
              "    </tr>\n",
              "  </tbody>\n",
              "</table>\n",
              "</div>"
            ],
            "text/plain": [
              "       BRAZIL  MEXICO  CHILE  ARGENTINA  ...  JAMAICA  URUGUAY  VENEZUELA  ECUADOR\n",
              "Year                                     ...                                      \n",
              "1980'       4       2      1          0  ...        0        0          0        0\n",
              "1981'       6       1      2          2  ...        2        0          0        0\n",
              "1982'       3       4      0          0  ...        1        0          0        0\n",
              "1983'       5       1      3          1  ...        0        0          1        0\n",
              "1984'       2       2      1          0  ...        0        0          0        0\n",
              "\n",
              "[5 rows x 11 columns]"
            ]
          },
          "metadata": {
            "tags": []
          },
          "execution_count": 11
        }
      ]
    },
    {
      "cell_type": "code",
      "metadata": {
        "id": "8f6pJoK9sW4b",
        "colab_type": "code",
        "outputId": "7b08a088-ea75-472b-e322-e9d5a7754e07",
        "colab": {
          "base_uri": "https://localhost:8080/",
          "height": 699
        }
      },
      "source": [
        "import pandas as pd\n",
        "import numpy as np\n",
        "import ineqpy\n",
        "import plotly.graph_objects as go\n",
        "\n",
        "years = DataProduccion.index\n",
        "\n",
        "#Claculate Gini for every year\n",
        "G = {}\n",
        "for year in years:\n",
        "  G[year] = ineqpy.gini(income=DataProduccion.loc[year].to_numpy())\n",
        "\n",
        "G"
      ],
      "execution_count": 12,
      "outputs": [
        {
          "output_type": "execute_result",
          "data": {
            "text/plain": [
              "{\"1980'\": 0.7555555555555559,\n",
              " \"1981'\": 0.6400000000000002,\n",
              " \"1982'\": 0.8222222222222225,\n",
              " \"1983'\": 0.7818181818181822,\n",
              " \"1984'\": 0.8400000000000004,\n",
              " \"1985'\": 0.9142857142857145,\n",
              " \"1986'\": 0.7454545454545457,\n",
              " \"1987'\": 0.9000000000000002,\n",
              " \"1988'\": 0.7250000000000002,\n",
              " \"1989'\": 0.7250000000000002,\n",
              " \"1990'\": 0.9000000000000002,\n",
              " \"1991'\": 0.7333333333333337,\n",
              " \"1992'\": 0.5500000000000003,\n",
              " \"1993'\": 0.7833333333333337,\n",
              " \"1994'\": 0.6615384615384617,\n",
              " \"1995'\": 0.6500000000000004,\n",
              " \"1996'\": 0.8000000000000004,\n",
              " \"1997'\": 0.7777777777777781,\n",
              " \"1998'\": 0.8222222222222224,\n",
              " \"1999'\": 0.8235294117647063,\n",
              " \"2000'\": 0.6518518518518521,\n",
              " \"2001'\": 0.8736842105263162,\n",
              " \"2002'\": 0.7764705882352944,\n",
              " \"2003'\": 0.8476190476190479,\n",
              " \"2004'\": 0.786666666666667,\n",
              " \"2005'\": 0.67741935483871,\n",
              " \"2006'\": 0.756756756756757,\n",
              " \"2007'\": 0.629268292682927,\n",
              " \"2008'\": 0.8715231788079473,\n",
              " \"2009'\": 0.8638036809815955,\n",
              " \"2010'\": 0.7740740740740742,\n",
              " \"2011'\": 0.8226415094339626,\n",
              " \"2012'\": 0.7942028985507249,\n",
              " \"2013'\": 0.7216216216216221,\n",
              " \"2014'\": 0.7365853658536589,\n",
              " \"2015'\": 0.6956521739130438,\n",
              " \"2016'\": 0.7405857740585777,\n",
              " \"2017'\": 0.7128000000000003,\n",
              " \"2018'\": 0.6945147679324897}"
            ]
          },
          "metadata": {
            "tags": []
          },
          "execution_count": 12
        }
      ]
    },
    {
      "cell_type": "code",
      "metadata": {
        "id": "AJe-IEBtwEei",
        "colab_type": "code",
        "outputId": "730417a8-616f-4cab-9a47-7d1c80f6f0d6",
        "colab": {
          "base_uri": "https://localhost:8080/",
          "height": 481
        }
      },
      "source": [
        "import matplotlib.pylab as plt\n",
        "#Plot anual Gini\n",
        "df = pd.DataFrame.from_dict(G, orient='index')\n",
        "df.plot(figsize=(15,7), title='Gini', legend=False)"
      ],
      "execution_count": 13,
      "outputs": [
        {
          "output_type": "execute_result",
          "data": {
            "text/plain": [
              "<matplotlib.axes._subplots.AxesSubplot at 0x7f27456ab438>"
            ]
          },
          "metadata": {
            "tags": []
          },
          "execution_count": 13
        },
        {
          "output_type": "display_data",
          "data": {
            "image/png": "[encoded data removed]",
            "text/plain": [
              "<Figure size 1080x504 with 1 Axes>"
            ]
          },
          "metadata": {
            "tags": []
          }
        }
      ]
    },
    {
      "cell_type": "code",
      "metadata": {
        "id": "hSsiwfhUtk0t",
        "colab_type": "code",
        "colab": {}
      },
      "source": [
        ""
      ],
      "execution_count": 0,
      "outputs": []
    },
    {
      "cell_type": "code",
      "metadata": {
        "id": "T68NwoewwoSc",
        "colab_type": "code",
        "colab": {}
      },
      "source": [
        ""
      ],
      "execution_count": 0,
      "outputs": []
    }
  ]
}